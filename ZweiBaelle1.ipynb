{
 "cells": [
  {
   "cell_type": "markdown",
   "metadata": {},
   "source": [
    "#   \n",
    "\n",
    "## Aufgabe\n",
    "\n",
    "Zwei Tennisbälle mit je einer Masse von $m=57$ g und einem Durchmesser von $d=6$ cm befinden sich im Abstand von $s=1$ m im All ohne Einfluss von Kräften anderer Planeten. Wie viel Zeit brauchen sie bis zur Kollision?\n",
    "\n",
    "## Lösung - numerisch\n",
    "\n",
    "Die Kraft zwischen zwei (gleichen) Massen ist:\n",
    "$F(s)=\\frac{\\large \\gamma \\cdot m^2}{\\large s^2}$.\n",
    "Dabei ist $ \\gamma  = 6,67 \\cdot 10^{-11}   \\frac{\\large \\mathrm{N}^2 \\cdot \\mathrm{m^2}}{\\large \\mathrm{kg}}$ die Gravitationskonstante.\n",
    "\n",
    "Die Beschleunigung $a=F/m$ ist nicht konstant, sondern proportional zu $\\frac{1}{\\large s^2}$, deshalb gibt es eine DGL zu lösen:\n",
    "$\\large \\ddot{s}=\\frac{\\large \\gamma \\cdot m}{\\Large s^2}$. \n",
    "\n",
    "\n",
    "<img src=\"ZweiBaelle.png\" width=\"200\" height=\"200\">\n",
    "\n",
    "Numerischer Ansatz: In kleinen Zeiteinheiten nimmt man die Beschleunigung als konstant an und hat die Bewegungsgleichungen für $a=const$:\n",
    "\n",
    "$s_1=s_0 - 2 \\cdot (v_0 \\cdot t +\\frac{1}{2} a \\cdot t^2)$\n",
    "\n",
    "$v_1=v_0 + a \\cdot t$\n",
    "\n",
    "Die neue Beschleunigung $a_1$ am neuen Abstand $s_1$ ist $ a_1=\\frac{\\Large\\gamma \\cdot m}{\\large s_1^2}$ . Damit rechnt man den nächsten Weg, bis man schlie$\\mathrm{\\beta}$lich mit $s_n=0,06$m am Kollisionsort angekommen ist.\n"
   ]
  },
  {
   "cell_type": "code",
   "execution_count": 71,
   "metadata": {},
   "outputs": [
    {
     "name": "stdout",
     "output_type": "stream",
     "text": [
      "s= 0.05999954648759583 m\n",
      "Zeit = 400240.89994271466 s\n",
      "Zeit = 111.17802776186518 h\n",
      "Zeit = 4.632417823411049 d\n"
     ]
    }
   ],
   "source": [
    "import matplotlib\n",
    "import matplotlib.pyplot as plt\n",
    "import numpy as np\n",
    "\n",
    "gamma=6.67*10**(-11)\n",
    "m=0.057\n",
    "s=1              #Anfangswert\n",
    "v=0              #Anfangswert\n",
    "t=0.05          #Zeitintervall\n",
    "t_ges=0          #Anfangswert\n",
    "\n",
    "w_t = np.array([])   # Schreiben der Werte in Listen\n",
    "w_v = np.array([])   # Schreiben der Werte in Listen\n",
    "w_a = np.array([])   # Schreiben der Werte in Listen\n",
    "\n",
    "while s > 0.06:\n",
    "    a=gamma*m/(s**2)\n",
    "    s=s-2*(v*t+0.5*a*t**2)\n",
    "    v=v+a*t\n",
    "    t_ges=t_ges+t\n",
    "    \n",
    "    #w_t = np.append(w_t,[t_ges]) \n",
    "    #w_v = np.append(w_v,[v]) \n",
    "    #w_a = np.append(w_a,[a]) \n",
    "    \n",
    "\n",
    "print(\"s=\", s, \"m\")\n",
    "print(\"Zeit =\", t_ges, \"s\")\n",
    "t_Stunden = t_ges/3600\n",
    "print(\"Zeit =\", t_Stunden, \"h\")\n",
    "t_Tage=t_Stunden/24\n",
    "print(\"Zeit =\", t_Tage, \"d\")\n",
    "\n",
    "#print(\"t=\", w_t)\n",
    "#print(\"v=\", w_v)\n",
    "#print(\"a=\", w_a)\n"
   ]
  },
  {
   "cell_type": "code",
   "execution_count": 7,
   "metadata": {},
   "outputs": [
    {
     "data": {
      "text/plain": [
       "Text(0.5, 1.0, 'Beschleunigung')"
      ]
     },
     "execution_count": 7,
     "metadata": {},
     "output_type": "execute_result"
    },
    {
     "data": {
      "image/png": "[encoded data removed]",
      "text/plain": [
       "<Figure size 432x288 with 1 Axes>"
      ]
     },
     "metadata": {
      "needs_background": "light"
     },
     "output_type": "display_data"
    },
    {
     "data": {
      "image/png": "[encoded data removed]",
      "text/plain": [
       "<Figure size 432x288 with 1 Axes>"
      ]
     },
     "metadata": {
      "needs_background": "light"
     },
     "output_type": "display_data"
    }
   ],
   "source": [
    "fig, ax = plt.subplots() \n",
    "ax.plot(w_t, w_v, linestyle='-',color='C4', label='Geschwindigkeit');\n",
    "ax.set_xlabel('t/s') \n",
    "ax.set_ylabel('v in m/s')\n",
    "ax.set_title('Geschwindigkeit')\n",
    "\n",
    "fig, ax = plt.subplots()\n",
    "ax.plot(w_t, w_a, linestyle='-',color='C1', label='Beschleunigung');\n",
    "ax.set_xlabel('t/s')\n",
    "ax.set_ylabel('a in m/s^2')\n",
    "ax.set_title('Beschleunigung')\n"
   ]
  },
  {
   "cell_type": "markdown",
   "metadata": {},
   "source": [
    "## Gleiche Aufgabe\n",
    "\n",
    "Zwei Tennisbälle mit je einer Masse von $m=57$ g und einem Durchmesser von $d=6$ cm befinden sich im Abstand von $s=1$ m im All ohne Einfluss Kräften anderer Planeten. Wie viel Zeit brauchen sie bis zur Kollision?\n",
    "\n",
    "## Lösung - Lösung der DGL\n",
    "\n",
    "Die Kraft zwischen zwei (gleichen) Massen ist:\n",
    "$F(s)=\\frac{\\large \\gamma \\cdot m^2}{\\large s^2}$.\n",
    "Dabei ist $ \\gamma  = 6,67 \\cdot 10^2   \\frac{\\large \\mathrm{N}^2 \\cdot \\mathrm{m^2}}{\\large \\mathrm{kg}}$ die Gravitationskonstante.\n",
    "\n",
    "<img src=\"ZweiBae_DGL.png\" width=\"300\" height=\"200\">\n",
    "\n",
    "Wählt man den Nullpunkt in der Mitte zwischen den Massen, ist der Abstand zwischen den Massen $2\\cdot s(t)$ und die DGL lautet:   \n",
    "\n",
    "$$ \\ddot{s}=-\\frac{\\gamma \\cdot m}{ (2s)^2}$$. \n",
    "\n",
    "Man multipliziert beide Seiten der DGL mit $2\\dot{s}$ \n",
    "\n",
    "$$2\\dot{s} \\cdot \\ddot{s}=-\\frac{ \\gamma \\cdot m \\cdot2\\dot{s}}{ (2s)^2}$$. \n",
    "\n",
    "Nach der Kettenregel ist die linke Seite gleich $\\frac{\\large d}{\\large dt} (\\dot{s})^2$ und die rechte Seite $\\frac{\\large d}{\\large dt} 2F(s)$, \n",
    "mit der Stammfunktion \n",
    "$$F(s)=\\int_{s_0}^{s} f(x)dx$$ \n",
    "der Funktion  $f(x)=-\\frac{\\large \\gamma \\cdot m}{\\large (2x)^2}$.\n",
    "\n",
    "$$\\frac{ d}{ dt} (\\dot{s})^2=\\frac{ d}{ dt} 2F(s)$$\n",
    "\n",
    "$$(\\dot{s})^2=2F(s)$$\n",
    "\n",
    "Einsetzen von \n",
    "$$F(s)=-\\int_{s_0}^{s} \\frac{ \\gamma \\cdot m}{ (2x)^2}dx=\\frac{ \\gamma \\cdot m}{ 4}\\cdot (\\frac{ 1}{ s}-\\frac{ 1}{ s_0})$$ ergibt\n",
    "\n",
    "$$\\dot{s}^2=2 \\cdot \\frac{ \\gamma \\cdot m}{ 4}\\cdot (\\frac{ 1}{ s}-\\frac{ 1}{ s_0})$$ \n",
    "\n",
    "$$\\frac{ ds}{ dt}=\\sqrt{{ \\gamma \\cdot m}{ 2}\\cdot (\\frac{ 1}{e_s}-\\frac{ 1}{ s_0})}$$\n",
    "\n",
    "Trennung der Variabeln\n",
    "\n",
    "$$\\frac{ ds}{\\sqrt{\\frac{ \\gamma \\cdot m}{ 2}\\cdot (\\frac{ 1}{ s}-\\frac{ 1}{ s_0})} }=dt$$\n",
    "\n",
    "führt auf das Integral\n",
    "\n",
    "$$t=\\sqrt{\\frac{2}{\\gamma \\cdot m} }  \\int_{s_0}^{s_e} \n",
    "\\frac{ ds}\n",
    "{ \\sqrt{\\frac{ 1}{ s} -\\frac{ 1}{ s_0} } }$$\n",
    "\n",
    "bzw\n",
    "\n",
    "$$t=\\sqrt{\\frac{2}{\\gamma \\cdot m} }  \\int_{s_0}^{s_e} \n",
    "\\frac{  \\sqrt{s_0 \\cdot s} }\n",
    "{ \\sqrt{s_0 -s } }ds$$\n",
    "\n",
    "Lösung des Integrals (Bronstein) für $a<0$:\n",
    "\n",
    "$$ \\int\\sqrt{ \\frac{X}{Y} } dx=\\frac{1}{a} \\sqrt{X \\cdot Y}-\\frac{ \\Delta}{a \\sqrt{ -af}}\\mathrm{arctan}(\\sqrt{ \\frac{-fX}{aY} })$$   \n",
    "\n",
    "$X=ax+b=s_0-s$  mit    $a=-1$ und    $b=s_0$\n",
    "\n",
    "$Y=fx+g=s_0 \\cdot s$  mit   $f=s_0$ und    $g=0$\n",
    "\n",
    "$\\Delta=bf-ag=s_0^2$\n",
    "\n",
    "Eingesetzt:\n",
    "\n",
    "$$t=\\sqrt{   \\frac{2}{\\gamma \\cdot m} } \\left [ \\sqrt{(s_0-s)s_0s}+ s_0^{3/2}arctan\\sqrt{\\frac{s_0-s}{s}} \n",
    "      \\right ]_{s_0}^{s_e}$$ \n",
    " \n",
    "$$t=\\sqrt{   \\frac{2}{\\gamma \\cdot m} }  \\sqrt{(s_0-s_e)s_0s_e}+ s_0^{3/2}arctan\\sqrt{\\frac{s_0-s_e}{s_e}}  $$ "
   ]
  },
  {
   "cell_type": "code",
   "execution_count": 69,
   "metadata": {},
   "outputs": [
    {
     "name": "stdout",
     "output_type": "stream",
     "text": [
      "Zeit = 400240.8362 s\n",
      "Zeit = 111.18 h\n",
      "Zeit = 4.63 d\n"
     ]
    }
   ],
   "source": [
    "gamma=6.67*10**(-11)\n",
    "m=0.057\n",
    "s_0=0.5\n",
    "s_e=0.03\n",
    "t_DGL=(2/(gamma*m))**0.5*(    ((s_0-s_e)*s_0*s_e)**0.5+  s_0**(3/2)*np.arctan(((s_0-s_e)/(s_e))**0.5))\n",
    "\n",
    "t_St_DGL=t_DGL/3600\n",
    "t_Tage_DGL=t_St_DGL/24\n",
    "print(\"Zeit =\", t_DGL.round(4), \"s\") \n",
    "print(\"Zeit =\", t_St_DGL.round(2), \"h\") \n",
    "print(\"Zeit =\", t_Tage_DGL.round(2), \"d\") \n"
   ]
  },
  {
   "cell_type": "code",
   "execution_count": null,
   "metadata": {},
   "outputs": [],
   "source": []
  }
 ],
 "metadata": {
  "kernelspec": {
   "display_name": "Python 3",
   "language": "python",
   "name": "python3"
  },
  "language_info": {
   "codemirror_mode": {
    "name": "ipython",
    "version": 3
   },
   "file_extension": ".py",
   "mimetype": "text/x-python",
   "name": "python",
   "nbconvert_exporter": "python",
   "pygments_lexer": "ipython3",
   "version": "3.7.3"
  }
 },
 "nbformat": 4,
 "nbformat_minor": 4
}
